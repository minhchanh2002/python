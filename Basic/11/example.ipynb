{
 "cells": [
  {
   "cell_type": "markdown",
   "metadata": {},
   "source": [
    "lấy thông tin 1 khách hàng từ 1 local file để đưa lên web, trả\n",
    "về kiểu json"
   ]
  },
  {
   "cell_type": "code",
   "execution_count": 1,
   "metadata": {},
   "outputs": [
    {
     "name": "stdout",
     "output_type": "stream",
     "text": [
      " * Serving Flask app '__main__'\n",
      " * Debug mode: off\n"
     ]
    },
    {
     "name": "stderr",
     "output_type": "stream",
     "text": [
      "WARNING: This is a development server. Do not use it in a production deployment. Use a production WSGI server instead.\n",
      " * Running on http://127.0.0.1:5000\n",
      "Press CTRL+C to quit\n",
      "127.0.0.1 - - [03/Jun/2024 19:13:09] \"GET /churn_count HTTP/1.1\" 200 -\n"
     ]
    }
   ],
   "source": [
    "from flask import Flask\n",
    "import pandas as pd\n",
    "#import json\n",
    "# Tạo application\n",
    "app = Flask(__name__)\n",
    "@app.route(\"/churn_count\")\n",
    "def churn_count():\n",
    "\n",
    "    df = pd.read_csv('Telco-Customer-Churn.csv')\n",
    "\n",
    "    result = df[df['customerID'] == '7590-VHVEG'].to_json()\n",
    "    return result\n",
    "\n",
    "# Chạy chương trình chính\n",
    "if __name__ == \"__main__\":\n",
    "    app.run()"
   ]
  },
  {
   "cell_type": "markdown",
   "metadata": {},
   "source": [
    "lấy thông tin 1 khách hàng từ 1 local\n",
    "file để đưa lên web, trả về kiểu json, nhưng filter dựa\n",
    "vào tenure với 10 giá trị cao nhất"
   ]
  },
  {
   "cell_type": "code",
   "execution_count": 1,
   "metadata": {},
   "outputs": [
    {
     "name": "stdout",
     "output_type": "stream",
     "text": [
      " * Serving Flask app '__main__'\n",
      " * Debug mode: off\n"
     ]
    },
    {
     "name": "stderr",
     "output_type": "stream",
     "text": [
      "WARNING: This is a development server. Do not use it in a production deployment. Use a production WSGI server instead.\n",
      " * Running on http://127.0.0.1:5000\n",
      "Press CTRL+C to quit\n",
      "127.0.0.1 - - [09/Jun/2024 22:45:42] \"GET / HTTP/1.1\" 404 -\n",
      "127.0.0.1 - - [09/Jun/2024 22:45:55] \"GET /top_tenure HTTP/1.1\" 200 -\n"
     ]
    },
    {
     "name": "stderr",
     "output_type": "stream",
     "text": [
      "127.0.0.1 - - [09/Jun/2024 22:46:32] \"GET / HTTP/1.1\" 404 -\n"
     ]
    }
   ],
   "source": [
    "from flask import Flask, jsonify, render_template_string\n",
    "import pandas as pd\n",
    "\n",
    "app = Flask(__name__)\n",
    "\n",
    "@app.route(\"/top_tenure\")\n",
    "def top_tenure():\n",
    "    # Đọc dữ liệu từ file CSV\n",
    "    df = pd.read_csv('Telco-Customer-Churn.csv')\n",
    "    \n",
    "    # Sắp xếp dữ liệu theo cột 'tenure' giảm dần và lấy 10 giá trị cao nhất\n",
    "    top_ten = df.nlargest(10, 'tenure')\n",
    "    \n",
    "    top_ten_html = top_ten.to_html(index=False)\n",
    "\n",
    "    html_template = f\"\"\"\n",
    "    <!doctype html>\n",
    "    <html lang=\"en\">\n",
    "      <head>\n",
    "        <meta charset=\"utf-8\">\n",
    "        <meta name=\"viewport\" content=\"width=device-width, initial-scale=1, shrink-to-fit=no\">\n",
    "        <title>Top 10 Tenure</title>\n",
    "      </head>\n",
    "      <body>\n",
    "        <h1>Top 10 Customers by Tenure</h1>\n",
    "        {top_ten_html}\n",
    "      </body>\n",
    "    </html>\n",
    "    \"\"\"\n",
    "    return render_template_string(html_template)\n",
    "\n",
    "if __name__ == \"__main__\":\n",
    "    app.run()\n"
   ]
  },
  {
   "cell_type": "markdown",
   "metadata": {},
   "source": [
    "quản lý\n",
    "1 thư viện gồm danh sách các quyển sách."
   ]
  },
  {
   "cell_type": "code",
   "execution_count": 11,
   "metadata": {},
   "outputs": [
    {
     "name": "stdout",
     "output_type": "stream",
     "text": [
      " * Serving Flask app '__main__'\n",
      " * Debug mode: off\n"
     ]
    },
    {
     "name": "stderr",
     "output_type": "stream",
     "text": [
      "WARNING: This is a development server. Do not use it in a production deployment. Use a production WSGI server instead.\n",
      " * Running on http://127.0.0.1:5000\n",
      "Press CTRL+C to quit\n",
      "127.0.0.1 - - [03/Jun/2024 20:43:41] \"DELETE /books/1 HTTP/1.1\" 200 -\n",
      "127.0.0.1 - - [03/Jun/2024 20:43:44] \"GET /books/1 HTTP/1.1\" 405 -\n",
      "127.0.0.1 - - [03/Jun/2024 20:43:47] \"GET /books HTTP/1.1\" 200 -\n"
     ]
    }
   ],
   "source": [
    "from flask import Flask, request, jsonify, abort\n",
    "\n",
    "app = Flask(__name__)\n",
    "\n",
    "# In-memory database to store books\n",
    "books = []\n",
    "\n",
    "@app.route(\"/books\", methods=[\"GET\"])\n",
    "def get_books():\n",
    "    return jsonify(books)\n",
    "\n",
    "@app.route(\"/books\", methods=[\"POST\"])\n",
    "def add_book():\n",
    "    if not request.json or not 'id' in request.json or not 'title' in request.json or not 'author' in request.json:\n",
    "        abort(400)\n",
    "    book = {\n",
    "        'id': request.json['id'],\n",
    "        'title': request.json['title'],\n",
    "        'author': request.json['author']\n",
    "    }\n",
    "    books.append(book)\n",
    "    return jsonify(book), 201\n",
    "\n",
    "@app.route(\"/books/<int:book_id>\", methods=[\"PUT\"])\n",
    "def update_book(book_id):\n",
    "    book = next((b for b in books if b['id'] == book_id), None)\n",
    "    if not book:\n",
    "        abort(404)\n",
    "    if not request.json:\n",
    "        abort(400)\n",
    "    if 'title' in request.json and type(request.json['title']) != str:\n",
    "        abort(400)\n",
    "    if 'author' in request.json and type(request.json['author']) != str:\n",
    "        abort(400)\n",
    "    book['title'] = request.json.get('title', book['title'])\n",
    "    book['author'] = request.json.get('author', book['author'])\n",
    "    return jsonify(book)\n",
    "\n",
    "@app.route(\"/books/<int:book_id>\", methods=[\"DELETE\"])\n",
    "def delete_book(book_id):\n",
    "    global books\n",
    "    books = [b for b in books if b['id'] != book_id]\n",
    "    return jsonify({'result': True})\n",
    "\n",
    "if __name__ == \"__main__\":\n",
    "    app.run()\n"
   ]
  }
 ],
 "metadata": {
  "kernelspec": {
   "display_name": "Python 3",
   "language": "python",
   "name": "python3"
  },
  "language_info": {
   "codemirror_mode": {
    "name": "ipython",
    "version": 3
   },
   "file_extension": ".py",
   "mimetype": "text/x-python",
   "name": "python",
   "nbconvert_exporter": "python",
   "pygments_lexer": "ipython3",
   "version": "3.11.6"
  }
 },
 "nbformat": 4,
 "nbformat_minor": 2
}
