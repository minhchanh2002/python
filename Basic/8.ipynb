{
 "cells": [
  {
   "cell_type": "markdown",
   "metadata": {},
   "source": [
    "Thay thế tất cả các khoảng trắng trong một chuỗi bằng dấu gạch\n",
    "dưới (_) và đếm số lần thay thế."
   ]
  },
  {
   "cell_type": "code",
   "execution_count": 3,
   "metadata": {},
   "outputs": [
    {
     "name": "stdout",
     "output_type": "stream",
     "text": [
      "This_is_a_sample_text_with_spaces.\n",
      "6\n"
     ]
    }
   ],
   "source": [
    "import re\n",
    "\n",
    "pattern = '\\s+'\n",
    "replace = '_'\n",
    "string = 'This is a sample text with spaces.'\n",
    "\n",
    "new_string, count = re.subn(pattern, replace, string)\n",
    "print(new_string)\n",
    "print(count)"
   ]
  },
  {
   "cell_type": "markdown",
   "metadata": {},
   "source": [
    "Kiểm tra xem một chuỗi có chứa ít nhất một chữ\n",
    "số không. \"The price is $100.”"
   ]
  },
  {
   "cell_type": "code",
   "execution_count": 4,
   "metadata": {},
   "outputs": [
    {
     "name": "stdout",
     "output_type": "stream",
     "text": [
      "Chuỗi có chứa ít nhất một chữ số\n"
     ]
    }
   ],
   "source": [
    "import re\n",
    "\n",
    "string = 'The price is $100.'\n",
    "check = re.search(r'\\d', string)\n",
    "if check:\n",
    "    print (\"Chuỗi có chứa ít nhất một chữ số\")\n",
    "else:\n",
    "    print (\"Chuỗi không chứa chữ số nào\")\n"
   ]
  },
  {
   "cell_type": "code",
   "execution_count": 7,
   "metadata": {},
   "outputs": [
    {
     "name": "stdout",
     "output_type": "stream",
     "text": [
      "39801 356, 2102 1111\n",
      "801 35\n"
     ]
    }
   ],
   "source": [
    "import re\n",
    "string = '39801 356, 2102 1111'\n",
    "print(string)\n",
    "pattern = '(\\d{3}) (\\d{2})'\n",
    "match = re.search(pattern, string)\n",
    "if match: #nếu tồn tại chuỗi khớp\n",
    "    print(match.group()) # in ra kết quả\n",
    "else:\n",
    "    print(\"Không khớp\") # Không thì hiện thông"
   ]
  },
  {
   "cell_type": "markdown",
   "metadata": {},
   "source": [
    "Kiểm tra địa chỉ email hợp lệ. Yêu cầu: Viết một chương trình\n",
    "Python để kiểm tra xem một chuỗi có chứa địa chỉ email hợp lệ hay không."
   ]
  },
  {
   "cell_type": "code",
   "execution_count": 14,
   "metadata": {},
   "outputs": [
    {
     "name": "stdout",
     "output_type": "stream",
     "text": [
      "'example@example.com' là địa chỉ email hợp lệ.\n",
      "'user.name+tag+sorting@example.com' không phải là địa chỉ email hợp lệ.\n",
      "'user_name@example.co.in' là địa chỉ email hợp lệ.\n",
      "'user-name@example.co' không phải là địa chỉ email hợp lệ.\n",
      "'user@sub.example.com' là địa chỉ email hợp lệ.\n",
      "'user@123.123.123.123' không phải là địa chỉ email hợp lệ.\n",
      "'user@[123.123.123.123]' không phải là địa chỉ email hợp lệ.\n",
      "'plainaddress' không phải là địa chỉ email hợp lệ.\n",
      "'@missingusername.com' không phải là địa chỉ email hợp lệ.\n",
      "'missingatsign.com' không phải là địa chỉ email hợp lệ.\n",
      "'alo@gm-ail.co-m' không phải là địa chỉ email hợp lệ.\n",
      "'g@gmal' không phải là địa chỉ email hợp lệ.\n",
      "'missingdomain@.com' không phải là địa chỉ email hợp lệ.\n"
     ]
    }
   ],
   "source": [
    "import re\n",
    "\n",
    "def is_valid_email(email):\n",
    "    email_pattern = r'^[a-zA-Z0-9_.]+@[a-zA-Z]+\\.[a-zA-Z.]+$'\n",
    "    return re.match(email_pattern, email) is not None\n",
    "\n",
    "emails = [\n",
    "    \"example@example.com\",\n",
    "    \"user.name+tag+sorting@example.com\",\n",
    "    \"user_name@example.co.in\",\n",
    "    \"user-name@example.co\",\n",
    "    \"user@sub.example.com\",\n",
    "    \"user@123.123.123.123\",\n",
    "    \"user@[123.123.123.123]\",\n",
    "    \"plainaddress\",\n",
    "    \"@missingusername.com\",\n",
    "    \"missingatsign.com\",\n",
    "    \"alo@gm-ail.co-m\",\n",
    "    \"g@gmal\",\n",
    "    \"missingdomain@.com\"\n",
    "]\n",
    "\n",
    "for email in emails:\n",
    "    if is_valid_email(email):\n",
    "        print(f\"'{email}' là địa chỉ email hợp lệ.\")\n",
    "    else:\n",
    "        print(f\"'{email}' không phải là địa chỉ email hợp lệ.\")"
   ]
  }
 ],
 "metadata": {
  "kernelspec": {
   "display_name": "Python 3",
   "language": "python",
   "name": "python3"
  },
  "language_info": {
   "codemirror_mode": {
    "name": "ipython",
    "version": 3
   },
   "file_extension": ".py",
   "mimetype": "text/x-python",
   "name": "python",
   "nbconvert_exporter": "python",
   "pygments_lexer": "ipython3",
   "version": "3.11.6"
  }
 },
 "nbformat": 4,
 "nbformat_minor": 2
}
