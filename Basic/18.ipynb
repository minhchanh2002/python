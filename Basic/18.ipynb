{
 "cells": [
  {
   "cell_type": "code",
   "execution_count": 4,
   "metadata": {},
   "outputs": [
    {
     "name": "stdout",
     "output_type": "stream",
     "text": [
      "<sqlite3.Cursor object at 0x0000027586EF18C0>\n",
      "[('03', 'Ca Ca', 11), ('02', 'Chu Bin', 2), ('01', 'Ho Thi Hai', 7), ('04', 'JU Ly', 10)]\n"
     ]
    }
   ],
   "source": [
    "import sqlite3\n",
    "\n",
    "path = \"C:\\Program Files\\SQLiteStudio\\csdl.db\"\n",
    "connection = sqlite3.connect(path)\n",
    "cursor = connection.cursor()\n",
    "\n",
    "sql = \"SELECT * FROM sinhvien\"\n",
    "cursor.execute(sql)\n",
    "connection.commit()\n",
    "result = cursor.fetchall()\n",
    "print(cursor)\n",
    "print (result)"
   ]
  },
  {
   "cell_type": "markdown",
   "metadata": {},
   "source": [
    "Viết 1 hàm để in từng phần tử trong trong 1 csdl. Sau đó chạy thực thi và in ra toàn bộ csdl\n",
    "theo diemtb tăng dần"
   ]
  },
  {
   "cell_type": "code",
   "execution_count": 1,
   "metadata": {},
   "outputs": [
    {
     "name": "stdout",
     "output_type": "stream",
     "text": [
      "<sqlite3.Cursor object at 0x000001ACE0C0BEC0>\n",
      "[('02', 'Chu Bin', 2), ('01', 'Ho Thi Hai', 7), ('04', 'JU Ly', 10), ('03', 'Ca Ca', 11)]\n",
      "('02', 'Chu Bin', 2)\n",
      "('01', 'Ho Thi Hai', 7)\n",
      "('04', 'JU Ly', 10)\n",
      "('03', 'Ca Ca', 11)\n"
     ]
    }
   ],
   "source": [
    "import sqlite3\n",
    "\n",
    "path = \"D:\\Thac Si\\May (Python)\\csdl.db\"\n",
    "connection = sqlite3.connect(path)\n",
    "cursor = connection.cursor()\n",
    "\n",
    "sql = \"SELECT * FROM sinhvien ORDER BY diemtb ASC\"\n",
    "cursor.execute(sql)\n",
    "connection.commit()\n",
    "result = cursor.fetchall()\n",
    "print(cursor)\n",
    "print (result)\n",
    "for rs in result:\n",
    "    print (rs)"
   ]
  },
  {
   "cell_type": "code",
   "execution_count": 3,
   "metadata": {},
   "outputs": [],
   "source": [
    "import sqlite3\n",
    "\n",
    "path = \"D:\\Thac Si\\May (Python)\\csdl.db\"\n",
    "connection = sqlite3.connect(path)\n",
    "c = connection.cursor()\n",
    "\n",
    "c.execute(\"drop table if exists sinh_vien\")\n",
    "\n",
    "sql = \"\"\"\n",
    "        create table sinh_vien(\n",
    "            masv text(50) null primary key,\n",
    "            hovaten text(256) null,\n",
    "            ngaysinh date null\n",
    "        )\n",
    "\"\"\"\n",
    "c.execute(sql)\n",
    "connection.commit()\n",
    "\n",
    "sql = \"\"\"\n",
    "        insert into sinh_vien(masv, hovaten, ngaysinh)\n",
    "        values\n",
    "            ('01','Nguyen A','22/02/2002'),\n",
    "            ('02','Nguyen A','22/02/2002'),\n",
    "            ('03','Nguyen A','22/02/2002'),\n",
    "            ('04','Nguyen A','22/02/2002')\n",
    "\"\"\"\n",
    "c.execute(sql)\n",
    "connection.commit()"
   ]
  }
 ],
 "metadata": {
  "kernelspec": {
   "display_name": "Python 3",
   "language": "python",
   "name": "python3"
  },
  "language_info": {
   "codemirror_mode": {
    "name": "ipython",
    "version": 3
   },
   "file_extension": ".py",
   "mimetype": "text/x-python",
   "name": "python",
   "nbconvert_exporter": "python",
   "pygments_lexer": "ipython3",
   "version": "3.11.6"
  }
 },
 "nbformat": 4,
 "nbformat_minor": 2
}
