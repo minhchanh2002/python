{
 "cells": [
  {
   "cell_type": "code",
   "execution_count": 4,
   "metadata": {},
   "outputs": [
    {
     "name": "stdout",
     "output_type": "stream",
     "text": [
      "Đã tải xong ảnh và lưu vào tệp cover.jpg\n"
     ]
    }
   ],
   "source": [
    "import socket\n",
    "\n",
    "# Tạo một socket\n",
    "mysock = socket.socket(socket.AF_INET, socket.SOCK_STREAM)\n",
    "mysock.connect(('data.pr4e.org', 80))  # Kết nối tới cổng 80 (cổng dịch vụ web)\n",
    "\n",
    "# Gửi yêu cầu GET\n",
    "cmd = 'GET http://data.pr4e.org/cover.jpg HTTP/1.0\\r\\nHost: data.pr4e.org\\r\\n\\r\\n'.encode()\n",
    "mysock.send(cmd)\n",
    "\n",
    "# Biến để lưu trữ phản hồi\n",
    "response = b\"\"\n",
    "\n",
    "# Nhận dữ liệu\n",
    "while True:\n",
    "    data = mysock.recv(1024)\n",
    "    if len(data) < 1:\n",
    "        break\n",
    "    response += data\n",
    "\n",
    "# Đóng kết nối\n",
    "mysock.close()\n",
    "\n",
    "# Tách phần header và phần nội dung\n",
    "header_end_pos = response.find(b'\\r\\n\\r\\n') + 4\n",
    "header = response[:header_end_pos].decode()\n",
    "image_data = response[header_end_pos:]\n",
    "\n",
    "# Lưu phần nội dung ảnh vào tệp\n",
    "with open('cover.jpg', 'wb') as f:\n",
    "    f.write(image_data)\n",
    "\n",
    "print(\"Đã tải xong ảnh và lưu vào tệp cover.jpg\")\n"
   ]
  }
 ],
 "metadata": {
  "kernelspec": {
   "display_name": "Python 3",
   "language": "python",
   "name": "python3"
  },
  "language_info": {
   "codemirror_mode": {
    "name": "ipython",
    "version": 3
   },
   "file_extension": ".py",
   "mimetype": "text/x-python",
   "name": "python",
   "nbconvert_exporter": "python",
   "pygments_lexer": "ipython3",
   "version": "3.11.6"
  }
 },
 "nbformat": 4,
 "nbformat_minor": 2
}
