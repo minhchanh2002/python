{
 "cells": [
  {
   "cell_type": "markdown",
   "metadata": {},
   "source": [
    "Bài 1: Tạo 1 file để định nghĩa 1 class: InputOutString có 2 phương thức:\n",
    "\n",
    "-getString: để nhận 1 chuỗi do người dùng nhập vào từ bàn phím\n",
    "\n",
    "-printString: in chuỗi vừa nhập dưới dạng chuỗi in hoa\n",
    "\n"
   ]
  },
  {
   "cell_type": "code",
   "execution_count": 9,
   "metadata": {},
   "outputs": [
    {
     "name": "stdout",
     "output_type": "stream",
     "text": [
      "U\n"
     ]
    }
   ],
   "source": [
    "class InputOutString:\n",
    "    def __init__ (self):\n",
    "        self.s = \" \"\n",
    "\n",
    "    def getString(self):\n",
    "        self.s = input (\"Nhập chuỗi: \")\n",
    "\n",
    "    def printString(self):\n",
    "        print (self.s.upper())\n",
    "\n",
    "a = InputOutString()\n",
    "a.getString()\n",
    "a.printString()"
   ]
  },
  {
   "cell_type": "markdown",
   "metadata": {},
   "source": [
    "Bài 2: Viết chương trình tạo file dientich.py chứa lớp DT có 2 thuộc tính:\n",
    "chiều dài và chiều rộng; một phương thức Tinh_DT() dể tính diện tích hình\n",
    "chữ nhật. Sau đó, tạo file Test_dt.py để tạo đối tượng từ lớp DT để tính và in\n",
    "ra diện tích hình chữ nhật."
   ]
  },
  {
   "cell_type": "code",
   "execution_count": 10,
   "metadata": {},
   "outputs": [
    {
     "name": "stdout",
     "output_type": "stream",
     "text": [
      "20\n"
     ]
    }
   ],
   "source": [
    "class DT:\n",
    "    def __init__ (self, cd, cr):\n",
    "        self.cd = cd\n",
    "        self.cr = cr\n",
    "    \n",
    "    def Tinh_DT(self):\n",
    "        return self.cd * self.cr\n",
    "\n",
    "dt = DT(5, 4)\n",
    "print (dt.Tinh_DT())"
   ]
  }
 ],
 "metadata": {
  "kernelspec": {
   "display_name": "Python 3",
   "language": "python",
   "name": "python3"
  },
  "language_info": {
   "codemirror_mode": {
    "name": "ipython",
    "version": 3
   },
   "file_extension": ".py",
   "mimetype": "text/x-python",
   "name": "python",
   "nbconvert_exporter": "python",
   "pygments_lexer": "ipython3",
   "version": "3.11.6"
  }
 },
 "nbformat": 4,
 "nbformat_minor": 2
}
