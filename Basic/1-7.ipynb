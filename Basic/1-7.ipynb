{
 "cells": [
  {
   "cell_type": "markdown",
   "metadata": {},
   "source": [
    "1. Viết chương trình nhập vào một chuỗi"
   ]
  },
  {
   "cell_type": "code",
   "execution_count": 6,
   "metadata": {},
   "outputs": [
    {
     "name": "stdout",
     "output_type": "stream",
     "text": [
      "HELLO_PYTHON \n",
      "Hello_Python \n",
      "hello_python \n"
     ]
    }
   ],
   "source": [
    "a = \"Hello_Python \"\n",
    "#Chuỗi ký tự in hoa\n",
    "print (a.upper())\n",
    "#Chuỗi ký tự có ký tự đầu viết hoa\n",
    "print (a.title())\n",
    "#Chuỗi ký tự thường\n",
    "print (a.lower())"
   ]
  },
  {
   "cell_type": "markdown",
   "metadata": {},
   "source": [
    "2. Cho chuỗi: “python_canban@gmail.com_Sat_Jan_5:04:06”. Rút trích và hiển thị chuỗi gmail.com"
   ]
  },
  {
   "cell_type": "code",
   "execution_count": 8,
   "metadata": {},
   "outputs": [
    {
     "name": "stdout",
     "output_type": "stream",
     "text": [
      "gmail.com\n"
     ]
    }
   ],
   "source": [
    "a = \"python_canban@gmail.com_Sat_Jan_5:04:06\"\n",
    "print (a[14:23])"
   ]
  },
  {
   "cell_type": "markdown",
   "metadata": {},
   "source": [
    "3. Viết một chương trình thay thế một từ trong chuỗi. Yêu cầu:\n",
    "a. Nhập vào 1 chuỗi\n",
    "b. Nhập vào một từ cần thay thế và 1 từ thay thế"
   ]
  },
  {
   "cell_type": "code",
   "execution_count": 10,
   "metadata": {},
   "outputs": [
    {
     "name": "stdout",
     "output_type": "stream",
     "text": [
      "Hello_Java \n"
     ]
    }
   ],
   "source": [
    "a = input(\"Nhập chuỗi: \")\n",
    "b = input(\"Nhập từ cần thay thế: \")\n",
    "c = input(\"Nhập từ thay thế: \")\n",
    "\n",
    "a = a.replace(b,c)\n",
    "print (a)"
   ]
  },
  {
   "cell_type": "code",
   "execution_count": 14,
   "metadata": {},
   "outputs": [
    {
     "name": "stdout",
     "output_type": "stream",
     "text": [
      "['78', '89', '90']\n",
      "('78', '89', '90')\n"
     ]
    }
   ],
   "source": [
    "a = input(\"Nhập một chuỗi số: \")\n",
    "list_a = a.split(\",\")\n",
    "tuple_a = tuple(list_a)\n",
    "print (list_a)\n",
    "print (tuple_a)"
   ]
  },
  {
   "cell_type": "code",
   "execution_count": 19,
   "metadata": {},
   "outputs": [
    {
     "name": "stdout",
     "output_type": "stream",
     "text": [
      "{'Chu': 10, 'So': 3}\n"
     ]
    }
   ],
   "source": [
    "a = input(\"Nhập một câu: \")\n",
    "d = {'Chu' : 0, 'So' : 0}\n",
    "for char in a:\n",
    "    if char.isalpha() == True:\n",
    "        d['Chu'] += 1\n",
    "    elif char.isdigit() == True:\n",
    "        d['So'] += 1\n",
    "    else:\n",
    "        pass\n",
    "print (d)"
   ]
  },
  {
   "cell_type": "code",
   "execution_count": 20,
   "metadata": {},
   "outputs": [
    {
     "name": "stdout",
     "output_type": "stream",
     "text": [
      "{'Chu hoa': 2, 'Chu thuong': 8}\n"
     ]
    }
   ],
   "source": [
    "a = input(\"Nhập một câu: \")\n",
    "d = {'Chu hoa' : 0, 'Chu thuong' : 0}\n",
    "for char in a:\n",
    "    if char.isupper() == True:\n",
    "        d['Chu hoa'] += 1\n",
    "    elif char.islower() == True:\n",
    "        d['Chu thuong'] += 1\n",
    "    else:\n",
    "        pass\n",
    "print (d)"
   ]
  },
  {
   "cell_type": "code",
   "execution_count": 4,
   "metadata": {},
   "outputs": [
    {
     "name": "stdout",
     "output_type": "stream",
     "text": [
      "89.0\n",
      "89\n",
      "(89+0j)\n",
      "0x59\n",
      "0o131\n",
      "89\n"
     ]
    }
   ],
   "source": [
    "a = 89\n",
    "b = float(89)\n",
    "print (b)\n",
    "#c = int(a, 2)\n",
    "#print (c)\n",
    "d = str(a)\n",
    "print (d)\n",
    "e = complex(a)\n",
    "print (e)\n",
    "#f = tuple(a)\n",
    "#print (f)\n",
    "#g = dict(a)\n",
    "#print (g)\n",
    "h = hex(a)\n",
    "print (h)\n",
    "i = oct(a)\n",
    "print (i)\n",
    "j = chr(a)\n",
    "print (a)"
   ]
  },
  {
   "cell_type": "markdown",
   "metadata": {},
   "source": [
    "4. Viết một chương trình nhập vào 1 chuỗi. Sau đó in ra màn hình\n",
    "5 ký tự cuối cùng\n",
    "5 ký tự đầu tiên\n",
    "4 chuỗi trên một dòng cách 1 khoảng trắng\n",
    "4 chuỗi trên 4 dòng"
   ]
  },
  {
   "cell_type": "code",
   "execution_count": 14,
   "metadata": {},
   "outputs": [
    {
     "name": "stdout",
     "output_type": "stream",
     "text": [
      "5 ký tự cuối cùng là:  World\n",
      "5 ký tự đầu tiên là:  Hello\n",
      "Hello World Hello World Hello World Hello World \n",
      "Hello World\n",
      "Hello World\n",
      "Hello World\n",
      "Hello World\n",
      "\n"
     ]
    }
   ],
   "source": [
    "a = input(\"Nhập vào 1 chuỗi: \")\n",
    "b = len(a)\n",
    "print (\"5 ký tự cuối cùng là: \", a[b-5:b])\n",
    "print (\"5 ký tự đầu tiên là: \", a[0:5])\n",
    "c = (a + \" \")*4\n",
    "print (c)\n",
    "d = (a + \"\\n\")*4\n",
    "print (d)"
   ]
  },
  {
   "cell_type": "markdown",
   "metadata": {},
   "source": [
    "Bài 1: Viết phương trình tính thể tích hình trụ"
   ]
  },
  {
   "cell_type": "code",
   "execution_count": 18,
   "metadata": {},
   "outputs": [
    {
     "name": "stdout",
     "output_type": "stream",
     "text": [
      "Thể tích hình trụ là:  3141.5926535897934\n"
     ]
    }
   ],
   "source": [
    "import math\n",
    "r = float(input(\"Nhập bán kính mặt đáy: \"))\n",
    "h = float(input(\"Nhập chiều cao hình trụ: \"))\n",
    "print (\"Thể tích hình trụ là: \", math.pi*r**2*h)"
   ]
  },
  {
   "cell_type": "markdown",
   "metadata": {},
   "source": [
    "Bài 2: Viết phương trình tính diện tích tam giác"
   ]
  },
  {
   "cell_type": "code",
   "execution_count": 22,
   "metadata": {},
   "outputs": [
    {
     "name": "stdout",
     "output_type": "stream",
     "text": [
      "43.30127018922193\n"
     ]
    }
   ],
   "source": [
    "a = float(input(\"Nhập cạnh a: \"))\n",
    "b = float(input(\"Nhập cạnh b: \"))\n",
    "#c = float(input(\"Nhập cạnh c: \"))\n",
    "#A = math.radians(float(input(\"Nhập góc A: \")))\n",
    "#B = math.radians(float(input(\"Nhập góc B: \")))\n",
    "C = math.radians(float(input(\"Nhập góc C: \")))\n",
    "\n",
    "S1 = 1/2*a*b*math.sin(C)  \n",
    "#S2 = 1/2*b*c*math.sin(A)\n",
    "#S3 = 1/2*c*a*math.sin(B)\n",
    "print (S1)\n",
    "#print (S2)\n",
    "#print (S3)\n"
   ]
  },
  {
   "cell_type": "code",
   "execution_count": 21,
   "metadata": {},
   "outputs": [
    {
     "name": "stdout",
     "output_type": "stream",
     "text": [
      "43.30127018922193\n"
     ]
    }
   ],
   "source": [
    "a = float(input(\"Nhập cạnh a: \"))\n",
    "S = a**2*math.sqrt(3)/4\n",
    "print (S)"
   ]
  },
  {
   "cell_type": "code",
   "execution_count": 25,
   "metadata": {},
   "outputs": [
    {
     "name": "stdout",
     "output_type": "stream",
     "text": [
      "Đây là số chẵn\n"
     ]
    }
   ],
   "source": [
    "a = float(input(\"Nhập vào số nguyên dương: \"))\n",
    "if a % 2 == 0:\n",
    "    print(\"Đây là số chẵn\")\n",
    "else:\n",
    "    print(\"Đây là số lẻ\")"
   ]
  },
  {
   "cell_type": "code",
   "execution_count": 28,
   "metadata": {},
   "outputs": [
    {
     "name": "stdout",
     "output_type": "stream",
     "text": [
      "Đã tìm thấy chuỗi cần tìm ở vị trí:  1\n"
     ]
    }
   ],
   "source": [
    "a = input(\"Nhập chuỗi: \")\n",
    "b = input(\"Nhập chuỗi cần tìm: \")\n",
    "if b in a:\n",
    "    print (\"Đã tìm thấy chuỗi cần tìm ở vị trí: \", str(a.find(b)))\n",
    "else:\n",
    "    print (\"Không tìm thấy\")"
   ]
  },
  {
   "cell_type": "markdown",
   "metadata": {},
   "source": [
    "Viết 1 chương trình tính và in kết quả giai thừa của 1 số nhập vào từ bàn phím"
   ]
  },
  {
   "cell_type": "code",
   "execution_count": 29,
   "metadata": {},
   "outputs": [
    {
     "name": "stdout",
     "output_type": "stream",
     "text": [
      "Giai thừa của 12 là 479001600\n"
     ]
    }
   ],
   "source": [
    "def factorial(n):\n",
    "    if n == 0:\n",
    "        return 1\n",
    "    else:\n",
    "        return n * factorial(n-1)\n",
    "\n",
    "# Nhập số từ bàn phím\n",
    "number = int(input(\"Nhập một số để tính giai thừa: \"))\n",
    "result = factorial(number)\n",
    "print(f\"Giai thừa của {number} là {result}\")"
   ]
  },
  {
   "cell_type": "markdown",
   "metadata": {},
   "source": [
    "Bài 2: Hàm tạo và in list chứa các giá trị bình phương của các số từ 1 đến 20"
   ]
  },
  {
   "cell_type": "code",
   "execution_count": 30,
   "metadata": {},
   "outputs": [
    {
     "name": "stdout",
     "output_type": "stream",
     "text": [
      "Danh sách các giá trị bình phương của các số từ 1 đến 20 là:\n",
      "[1, 4, 9, 16, 25, 36, 49, 64, 81, 100, 121, 144, 169, 196, 225, 256, 289, 324, 361, 400]\n"
     ]
    }
   ],
   "source": [
    "def print_squares():\n",
    "    squares = [i ** 2 for i in range(1, 21)]\n",
    "    print(\"Danh sách các giá trị bình phương của các số từ 1 đến 20 là:\")\n",
    "    print(squares)\n",
    "\n",
    "# Thực thi hàm\n",
    "print_squares()"
   ]
  },
  {
   "cell_type": "markdown",
   "metadata": {},
   "source": [
    "Bài 3: Hàm tạo danh sách chứa các giá trị bình phương của các số từ 1 đến 20 và in 5 phần tử đầu tiên và 5 phần tử cuối cùng"
   ]
  },
  {
   "cell_type": "code",
   "execution_count": 31,
   "metadata": {},
   "outputs": [
    {
     "name": "stdout",
     "output_type": "stream",
     "text": [
      "5 phần tử đầu tiên trong danh sách là:\n",
      "[1, 4, 9, 16, 25]\n",
      "5 phần tử cuối cùng trong danh sách là:\n",
      "[256, 289, 324, 361, 400]\n"
     ]
    }
   ],
   "source": [
    "def print_first_last_squares():\n",
    "    squares = [i ** 2 for i in range(1, 21)]\n",
    "    print(\"5 phần tử đầu tiên trong danh sách là:\")\n",
    "    print(squares[:5])\n",
    "    print(\"5 phần tử cuối cùng trong danh sách là:\")\n",
    "    print(squares[-5:])\n",
    "\n",
    "# Thực thi hàm\n",
    "print_first_last_squares()"
   ]
  },
  {
   "cell_type": "markdown",
   "metadata": {},
   "source": [
    "In các số chẵn từ [a, b], a và b là do người dùng nhập vào (b > a)"
   ]
  },
  {
   "cell_type": "code",
   "execution_count": 8,
   "metadata": {},
   "outputs": [
    {
     "name": "stdout",
     "output_type": "stream",
     "text": [
      "Vui lòng nhập lại\n",
      "4\n",
      "6\n"
     ]
    }
   ],
   "source": [
    "a = int(input (\"Nhập a: \"))\n",
    "while True:\n",
    "    b = int(input (\"Nhập b: \"))\n",
    "    if b > a:\n",
    "        break\n",
    "    else:\n",
    "        print (\"Vui lòng nhập lại\")\n",
    "for i in range(a, b+1):\n",
    "    if (i % 2 == 0):\n",
    "        print (i)\n"
   ]
  },
  {
   "cell_type": "markdown",
   "metadata": {},
   "source": [
    "In các số nguyên tố từ [a,b], a và b là do người dùng nhập vào (b>a)"
   ]
  },
  {
   "cell_type": "code",
   "execution_count": 12,
   "metadata": {},
   "outputs": [
    {
     "name": "stdout",
     "output_type": "stream",
     "text": [
      "2\n",
      "3\n",
      "5\n",
      "7\n",
      "11\n",
      "13\n"
     ]
    }
   ],
   "source": [
    "def isprime(n):\n",
    "    if n <=1:\n",
    "        return False\n",
    "    for i in range(2, int(n**0.5) + 1):\n",
    "        if n % i == 0:\n",
    "            return False\n",
    "    return True\n",
    "a = int(input (\"Nhập a: \"))\n",
    "while True:\n",
    "    b = int(input (\"Nhập b: \"))\n",
    "    if b > a:\n",
    "        break\n",
    "    else:\n",
    "        print (\"Vui lòng nhập lại\")\n",
    "for i in range(a, b+1):\n",
    "    if isprime(i):\n",
    "        print(i)"
   ]
  },
  {
   "cell_type": "markdown",
   "metadata": {},
   "source": [
    "Kiểm tra xem một số có phải là số nguyên tố hay không?"
   ]
  },
  {
   "cell_type": "code",
   "execution_count": 11,
   "metadata": {},
   "outputs": [
    {
     "name": "stdout",
     "output_type": "stream",
     "text": [
      "a không phải số nguyên tố\n"
     ]
    }
   ],
   "source": [
    "def isprime(n):\n",
    "    if n <=1:\n",
    "        return False\n",
    "    for i in range(2, int(n**0.5) + 1):\n",
    "        if n % i == 0:\n",
    "            return False\n",
    "    return True\n",
    "a = int(input(\"Nhập a: \"))\n",
    "if isprime(a):\n",
    "    print (\"a là số nguyên tố\")\n",
    "else:\n",
    "    print (\"a không phải số nguyên tố\")"
   ]
  },
  {
   "cell_type": "markdown",
   "metadata": {},
   "source": [
    "Viết 1 hàm để thêm một phần tử mới cho 1 list?"
   ]
  },
  {
   "cell_type": "code",
   "execution_count": 13,
   "metadata": {},
   "outputs": [
    {
     "name": "stdout",
     "output_type": "stream",
     "text": [
      "[1, 2, 3, 4]\n"
     ]
    }
   ],
   "source": [
    "def add_element_to_list(lst, element):\n",
    "    lst.append(element)\n",
    "    return lst\n",
    "\n",
    "# Ví dụ sử dụng hàm\n",
    "my_list = [1, 2, 3]\n",
    "new_element = 4\n",
    "updated_list = add_element_to_list(my_list, new_element)\n",
    "print(updated_list)"
   ]
  },
  {
   "cell_type": "markdown",
   "metadata": {},
   "source": [
    "Viết 1 hàm để xoá 1 phẩn tử từ dictionary theo key?"
   ]
  },
  {
   "cell_type": "code",
   "execution_count": 14,
   "metadata": {},
   "outputs": [
    {
     "name": "stdout",
     "output_type": "stream",
     "text": [
      "{'a': 1, 'c': 3}\n"
     ]
    }
   ],
   "source": [
    "def remove_element_from_dict(d, key):\n",
    "    if key in d:\n",
    "        d.pop(key)\n",
    "    else:\n",
    "        print(f\"Key '{key}' không tồn tại trong dictionary.\")\n",
    "    return d\n",
    "\n",
    "# Ví dụ sử dụng hàm\n",
    "my_dict = {'a': 1, 'b': 2, 'c': 3}\n",
    "key_to_remove = 'b'\n",
    "updated_dict = remove_element_from_dict(my_dict, key_to_remove)\n",
    "print(updated_dict)\n"
   ]
  },
  {
   "cell_type": "markdown",
   "metadata": {},
   "source": [
    "Viết 1 hàm để tạo 1 dictionary từ 2 list, một list chứa keys và 1 list chứa values."
   ]
  },
  {
   "cell_type": "code",
   "execution_count": 15,
   "metadata": {},
   "outputs": [
    {
     "name": "stdout",
     "output_type": "stream",
     "text": [
      "{'a': 1, 'b': 2, 'c': 3}\n"
     ]
    }
   ],
   "source": [
    "def create_dict_from_lists(keys, values):\n",
    "    if len(keys) != len(values):\n",
    "        raise ValueError(\"Độ dài của keys và values phải bằng nhau.\")    \n",
    "    return dict(zip(keys, values))\n",
    "\n",
    "# Ví dụ sử dụng hàm\n",
    "keys = ['a', 'b', 'c']\n",
    "values = [1, 2, 3]\n",
    "result_dict = create_dict_from_lists(keys, values)\n",
    "print(result_dict)"
   ]
  },
  {
   "cell_type": "markdown",
   "metadata": {},
   "source": [
    "Viết 1 hàm để tìm key có giá trị lớn nhất trong 1 dictionary"
   ]
  },
  {
   "cell_type": "code",
   "execution_count": 1,
   "metadata": {},
   "outputs": [
    {
     "name": "stdout",
     "output_type": "stream",
     "text": [
      "Key có giá trị lớn nhất là: b\n"
     ]
    }
   ],
   "source": [
    "def find_max_value_key(d):\n",
    "    # Kiểm tra dictionary có rỗng hay không\n",
    "    if not d:\n",
    "        return None\n",
    "    \n",
    "    # Sử dụng hàm max để tìm key có giá trị lớn nhất\n",
    "    max_key = max(d, key=d.get)\n",
    "    \n",
    "    return max_key\n",
    "\n",
    "# Ví dụ sử dụng\n",
    "sample_dict = {'a': 10, 'b': 20, 'c': 15}\n",
    "result = find_max_value_key(sample_dict)\n",
    "print(f\"Key có giá trị lớn nhất là: {result}\")"
   ]
  },
  {
   "cell_type": "markdown",
   "metadata": {},
   "source": [
    "Viết 1 hàm để đếm số lần xuất hiện của 1 phần tử trong list"
   ]
  },
  {
   "cell_type": "code",
   "execution_count": 2,
   "metadata": {},
   "outputs": [
    {
     "name": "stdout",
     "output_type": "stream",
     "text": [
      "Phần tử 2 xuất hiện 3 lần trong danh sách.\n"
     ]
    }
   ],
   "source": [
    "def count_occurrences(lst, element):\n",
    "    # Sử dụng phương thức count của list để đếm số lần xuất hiện của phần tử\n",
    "    count = lst.count(element)\n",
    "    \n",
    "    return count\n",
    "\n",
    "# Ví dụ sử dụng\n",
    "sample_list = [1, 2, 3, 2, 4, 2, 5]\n",
    "element_to_count = 2\n",
    "result = count_occurrences(sample_list, element_to_count)\n",
    "print(f\"Phần tử {element_to_count} xuất hiện {result} lần trong danh sách.\")\n"
   ]
  },
  {
   "cell_type": "markdown",
   "metadata": {},
   "source": [
    "Viết 1 chương trình tính 1/2 + 2/3 + ... + n/(n+1), với n là số nguyên được nhập vào (n>0)"
   ]
  },
  {
   "cell_type": "code",
   "execution_count": 23,
   "metadata": {},
   "outputs": [
    {
     "name": "stdout",
     "output_type": "stream",
     "text": [
      "1.9166666666666665\n"
     ]
    }
   ],
   "source": [
    "while True:\n",
    "    n = int(input (\"Nhập n: \"))\n",
    "    if n > 0:\n",
    "        break\n",
    "    else:\n",
    "        print (\"Vui lòng nhập lại\")\n",
    "def calculate_sum(n):\n",
    "    total_sum = 0.0\n",
    "    for i in range (1, n+1):\n",
    "        total_sum += i/(i+1)\n",
    "    return total_sum\n",
    "print (calculate_sum(n))"
   ]
  },
  {
   "cell_type": "markdown",
   "metadata": {},
   "source": [
    "Viết chương trình đếm số ký tự hoa, thường"
   ]
  },
  {
   "cell_type": "code",
   "execution_count": 5,
   "metadata": {},
   "outputs": [
    {
     "name": "stdout",
     "output_type": "stream",
     "text": [
      "Số ký tự hoa: 3\n",
      "Số ký tự thường: 9\n"
     ]
    }
   ],
   "source": [
    "def count(a):\n",
    "    upper_count = 0\n",
    "    lower_count = 0\n",
    "\n",
    "    for i in a:\n",
    "        if i.isupper():\n",
    "            upper_count += 1\n",
    "        elif i.islower():\n",
    "            lower_count += 1\n",
    "    \n",
    "    return upper_count, lower_count\n",
    "\n",
    "a = input(\"Nhập chuỗi: \")\n",
    "upper_count, lower_count = count(a)\n",
    "\n",
    "# In kết quả\n",
    "print(f\"Số ký tự hoa: {upper_count}\")\n",
    "print(f\"Số ký tự thường: {lower_count}\")"
   ]
  },
  {
   "cell_type": "markdown",
   "metadata": {},
   "source": [
    "Viết chương trình loại bỏ các ký tự không phải là ký tự chữ cái và số trong 1 chuỗi"
   ]
  },
  {
   "cell_type": "code",
   "execution_count": 25,
   "metadata": {},
   "outputs": [
    {
     "name": "stdout",
     "output_type": "stream",
     "text": [
      "Chuỗi sau khi loại bỏ các ký tự không phải là chữ cái và số: Heisveryhandsome\n"
     ]
    }
   ],
   "source": [
    "def remove_non_alphanumeric(input_string):\n",
    "    result = ''.join(char for char in input_string if char.isalnum())\n",
    "    return result\n",
    "\n",
    "# Nhập chuỗi từ người dùng\n",
    "input_string = input(\"Nhập chuỗi: \")\n",
    "\n",
    "# Loại bỏ các ký tự không phải là chữ cái và số và in ra kết quả\n",
    "result_string = remove_non_alphanumeric(input_string)\n",
    "print(\"Chuỗi sau khi loại bỏ các ký tự không phải là chữ cái và số:\", result_string)"
   ]
  },
  {
   "cell_type": "code",
   "execution_count": 26,
   "metadata": {},
   "outputs": [
    {
     "name": "stdout",
     "output_type": "stream",
     "text": [
      "Chuỗi sau khi loại bỏ các ký tự không phải là chữ cái và số, nhưng vẫn giữ lại khoảng trắng:  He is very handsome \n"
     ]
    }
   ],
   "source": [
    "import re\n",
    "\n",
    "def remove_non_alphanumeric(input_string):\n",
    "    result = re.sub(r'[^a-zA-Z0-9\\s]', '', input_string)\n",
    "    return result\n",
    "\n",
    "# Nhập chuỗi từ người dùng\n",
    "input_string = input(\"Nhập chuỗi: \")\n",
    "\n",
    "# Loại bỏ các ký tự không phải là chữ cái và số, nhưng vẫn giữ lại khoảng trắng và in ra kết quả\n",
    "result_string = remove_non_alphanumeric(input_string)\n",
    "print(\"Chuỗi sau khi loại bỏ các ký tự không phải là chữ cái và số, nhưng vẫn giữ lại khoảng trắng:\", result_string)"
   ]
  },
  {
   "cell_type": "markdown",
   "metadata": {},
   "source": [
    "Viết chương trình tách từ thành 1 danh sách và sắp xếp các từ theo thứ tự a b c."
   ]
  },
  {
   "cell_type": "code",
   "execution_count": null,
   "metadata": {},
   "outputs": [],
   "source": [
    "def sort_words(sentence):\n",
    "    # Tách câu thành danh sách các từ\n",
    "    words = sentence.split()\n",
    "    \n",
    "    # Sắp xếp danh sách các từ theo thứ tự bảng chữ cái\n",
    "    words_sorted = sorted(words)\n",
    "    \n",
    "    return words_sorted\n",
    "\n",
    "# Nhập câu từ người dùng\n",
    "sentence = input(\"Nhập vào một câu: \")\n",
    "\n",
    "# Gọi hàm và lưu kết quả\n",
    "sorted_words = sort_words(sentence)\n",
    "\n",
    "# In kết quả\n",
    "print(\"Các từ sau khi sắp xếp:\")\n",
    "print(sorted_words)\n"
   ]
  },
  {
   "cell_type": "markdown",
   "metadata": {},
   "source": [
    "Viết chương trình nhập các số từ bàn phím. In ra giá trị trung bình."
   ]
  },
  {
   "cell_type": "code",
   "execution_count": null,
   "metadata": {},
   "outputs": [],
   "source": [
    "def calculate_average(numbers):\n",
    "    # Kiểm tra danh sách không rỗng để tránh lỗi chia cho 0\n",
    "    if not numbers:\n",
    "        return 0\n",
    "    return sum(numbers) / len(numbers)\n",
    "\n",
    "# Nhập các số từ bàn phím, phân tách bằng dấu cách\n",
    "input_numbers = input(\"Nhập các số, phân tách nhau bằng dấu cách: \")\n",
    "\n",
    "# Tách các số và chuyển đổi thành danh sách các số nguyên hoặc số thực\n",
    "numbers = list(map(float, input_numbers.split()))\n",
    "\n",
    "# Gọi hàm và lưu kết quả\n",
    "average = calculate_average(numbers)\n",
    "\n",
    "# In kết quả\n",
    "print(f\"Giá trị trung bình của các số là: {average}\")"
   ]
  },
  {
   "cell_type": "markdown",
   "metadata": {},
   "source": [
    "Viết chương trình tìm tất cả các số chia hết cho 7, nhưng không phải là bội số của 5,\n",
    "nằm trong đoạn 2000 và 3200. Các số thu được sẽ được lưu vào 1 danh sách, sau đó in\n",
    "thành chuỗi trên 1 dòng, cách nhau bằng dấu phẩy."
   ]
  },
  {
   "cell_type": "code",
   "execution_count": 6,
   "metadata": {},
   "outputs": [
    {
     "name": "stdout",
     "output_type": "stream",
     "text": [
      "2002, 2009, 2016, 2023, 2037, 2044, 2051, 2058, 2072, 2079, 2086, 2093, 2107, 2114, 2121, 2128, 2142, 2149, 2156, 2163, 2177, 2184, 2191, 2198, 2212, 2219, 2226, 2233, 2247, 2254, 2261, 2268, 2282, 2289, 2296, 2303, 2317, 2324, 2331, 2338, 2352, 2359, 2366, 2373, 2387, 2394, 2401, 2408, 2422, 2429, 2436, 2443, 2457, 2464, 2471, 2478, 2492, 2499, 2506, 2513, 2527, 2534, 2541, 2548, 2562, 2569, 2576, 2583, 2597, 2604, 2611, 2618, 2632, 2639, 2646, 2653, 2667, 2674, 2681, 2688, 2702, 2709, 2716, 2723, 2737, 2744, 2751, 2758, 2772, 2779, 2786, 2793, 2807, 2814, 2821, 2828, 2842, 2849, 2856, 2863, 2877, 2884, 2891, 2898, 2912, 2919, 2926, 2933, 2947, 2954, 2961, 2968, 2982, 2989, 2996, 3003, 3017, 3024, 3031, 3038, 3052, 3059, 3066, 3073, 3087, 3094, 3101, 3108, 3122, 3129, 3136, 3143, 3157, 3164, 3171, 3178, 3192, 3199\n"
     ]
    }
   ],
   "source": [
    "def find_numbers():\n",
    "    # Khởi tạo danh sách để lưu các số thỏa mãn điều kiện\n",
    "    result = []\n",
    "    \n",
    "    # Duyệt qua các số từ 2000 đến 3200\n",
    "    for number in range(2000, 3201):\n",
    "        if number % 7 == 0 and number % 5 != 0:\n",
    "            result.append(number)\n",
    "    \n",
    "    return result\n",
    "\n",
    "# Gọi hàm để tìm các số\n",
    "numbers = find_numbers()\n",
    "\n",
    "# Chuyển danh sách các số thành chuỗi, các số cách nhau bằng dấu phẩy\n",
    "numbers_str = ', '.join(map(str, numbers))\n",
    "\n",
    "# In kết quả\n",
    "print(numbers_str)\n"
   ]
  },
  {
   "cell_type": "markdown",
   "metadata": {},
   "source": [
    "Viết chương trình cho phép người dùng nhập vâof 1 chuỗi trên nhiều dòng, sau đó\n",
    "chuyển chuỗi này thành chữ in hoa."
   ]
  },
  {
   "cell_type": "code",
   "execution_count": 7,
   "metadata": {},
   "outputs": [
    {
     "name": "stdout",
     "output_type": "stream",
     "text": [
      "Nhập vào một chuỗi trên nhiều dòng (nhập một dòng trống để kết thúc):\n",
      "Chuỗi sau khi chuyển thành chữ in hoa:\n",
      "HULI\n",
      "HGUL\n"
     ]
    }
   ],
   "source": [
    "def input_multiline():\n",
    "    print(\"Nhập vào một chuỗi trên nhiều dòng (nhập một dòng trống để kết thúc):\")\n",
    "    lines = []\n",
    "    while True:\n",
    "        line = input()\n",
    "        if line == \"\":\n",
    "            break\n",
    "        lines.append(line)\n",
    "    return \"\\n\".join(lines)\n",
    "\n",
    "def convert_to_uppercase(text):\n",
    "    return text.upper()\n",
    "\n",
    "# Nhập chuỗi từ người dùng\n",
    "multiline_text = input_multiline()\n",
    "\n",
    "# Chuyển chuỗi thành chữ in hoa\n",
    "uppercase_text = convert_to_uppercase(multiline_text)\n",
    "\n",
    "# In kết quả\n",
    "print(\"Chuỗi sau khi chuyển thành chữ in hoa:\")\n",
    "print(uppercase_text)\n"
   ]
  },
  {
   "cell_type": "markdown",
   "metadata": {},
   "source": [
    "Viết chương trình tìm tất cả các số trong đoạn 100 và 300 (tính cả 2 số này) sao cho tất\n",
    "cả các chữ số trong đó là số chắn. In ra các số tìm được thành chuỗi cách nhau bởi dấu\n",
    "phẩy."
   ]
  },
  {
   "cell_type": "code",
   "execution_count": 8,
   "metadata": {},
   "outputs": [
    {
     "name": "stdout",
     "output_type": "stream",
     "text": [
      "100, 102, 104, 106, 108, 110, 112, 114, 116, 118, 120, 122, 124, 126, 128, 130, 132, 134, 136, 138, 140, 142, 144, 146, 148, 150, 152, 154, 156, 158, 160, 162, 164, 166, 168, 170, 172, 174, 176, 178, 180, 182, 184, 186, 188, 190, 192, 194, 196, 198, 200, 202, 204, 206, 208, 210, 212, 214, 216, 218, 220, 222, 224, 226, 228, 230, 232, 234, 236, 238, 240, 242, 244, 246, 248, 250, 252, 254, 256, 258, 260, 262, 264, 266, 268, 270, 272, 274, 276, 278, 280, 282, 284, 286, 288, 290, 292, 294, 296, 298, 300\n"
     ]
    }
   ],
   "source": [
    "def find_numbers():\n",
    "    # Khởi tạo danh sách để lưu các số thỏa mãn điều kiện\n",
    "    result = []\n",
    "    \n",
    "    # Duyệt qua các số từ 2000 đến 3200\n",
    "    for number in range(100, 301):\n",
    "        if number % 2 == 0:\n",
    "            result.append(number)\n",
    "    \n",
    "    return result\n",
    "\n",
    "# Gọi hàm để tìm các số\n",
    "numbers = find_numbers()\n",
    "\n",
    "# Chuyển danh sách các số thành chuỗi, các số cách nhau bằng dấu phẩy\n",
    "numbers_str = ', '.join(map(str, numbers))\n",
    "\n",
    "# In kết quả\n",
    "print(numbers_str)"
   ]
  },
  {
   "cell_type": "code",
   "execution_count": 29,
   "metadata": {},
   "outputs": [
    {
     "name": "stdout",
     "output_type": "stream",
     "text": [
      "['12', '89', '34']\n",
      "135\n"
     ]
    }
   ],
   "source": [
    "import re\n",
    "string = 'hello 12 hi 89. Howdy 34'\n",
    "pattern = '\\d+'\n",
    "result = re.findall(pattern, string)\n",
    "print(result)\n",
    "total_sum = sum(int(number) for number in result)\n",
    "print(total_sum)"
   ]
  },
  {
   "cell_type": "code",
   "execution_count": 28,
   "metadata": {},
   "outputs": [
    {
     "name": "stdout",
     "output_type": "stream",
     "text": [
      "['123', '456']\n"
     ]
    }
   ],
   "source": [
    "import re\n",
    "string = 'There are 123 apples and 456 bananas.'\n",
    "pattern = '\\d+'\n",
    "result = re.findall(pattern, string)\n",
    "print(result)"
   ]
  },
  {
   "cell_type": "code",
   "execution_count": 39,
   "metadata": {},
   "outputs": [
    {
     "name": "stdout",
     "output_type": "stream",
     "text": [
      "Các địa chỉ email được tìm thấy: ['example@example.com', 'test@test.org.']\n"
     ]
    }
   ],
   "source": [
    "import re\n",
    "\n",
    "def find_emails(text):\n",
    "    emails = re.findall(r'[\\w\\.-]+@[\\w\\.-]+', text)\n",
    "    \n",
    "    return emails\n",
    "#[a-zA-Z0-9]+@[a-zA-Z]+\\.[a-z]+\n",
    "text = \"My email addresses are example@example.com and test@test.org.\"\n",
    "\n",
    "found_emails = find_emails(text)\n",
    "print(\"Các địa chỉ email được tìm thấy:\", found_emails)\n"
   ]
  },
  {
   "cell_type": "code",
   "execution_count": null,
   "metadata": {},
   "outputs": [],
   "source": [
    "import re\n",
    "\n",
    "def extract_contacts(text):\n",
    "    contacts = {}\n",
    "    matches = re.findall(r'(\\w+):\\s*([\\w\\.-]+@[\\w\\.-]+)', text)\n",
    "    \n",
    "    # Thêm tên và địa chỉ email vào dictionary\n",
    "    for match in matches:\n",
    "        name, email = match\n",
    "        contacts[name] = email\n",
    "    \n",
    "    return contacts\n",
    "\n",
    "# Danh sách liên hệ\n",
    "text = \"John: john@example.com, Alice: alice@test.org, Bob: bob@gmail.com\"\n",
    "\n",
    "# Trích xuất tên và địa chỉ email từ danh sách liên hệ\n",
    "extracted_contacts = extract_contacts(text)\n",
    "print(\"Danh sách liên hệ sau khi được trích xuất:\")\n",
    "for name, email in extracted_contacts.items():\n",
    "    print(f\"{name}: {email}\")"
   ]
  },
  {
   "cell_type": "code",
   "execution_count": 41,
   "metadata": {},
   "outputs": [
    {
     "name": "stdout",
     "output_type": "stream",
     "text": [
      "Danh sách liên hệ sau khi được trích xuất:\n",
      "John: john@example.com\n",
      "Alice: alice@test.org\n",
      "Bob: bob@gmail.com\n"
     ]
    }
   ],
   "source": [
    "import re\n",
    "\n",
    "def extract_contacts(text):\n",
    "    contacts = {}\n",
    "    contact_pairs = re.split(r',\\s*', text)\n",
    "    \n",
    "    for pair in contact_pairs:\n",
    "        name, email = re.split(r':\\s*', pair)\n",
    "        contacts[name] = email\n",
    "    \n",
    "    return contacts\n",
    "\n",
    "text = \"John: john@example.com, Alice: alice@test.org, Bob: bob@gmail.com\"\n",
    "\n",
    "extracted_contacts = extract_contacts(text)\n",
    "print(\"Danh sách liên hệ sau khi được trích xuất:\")\n",
    "for name, email in extracted_contacts.items():\n",
    "    print(f\"{name}: {email}\")\n"
   ]
  },
  {
   "cell_type": "code",
   "execution_count": 42,
   "metadata": {},
   "outputs": [
    {
     "name": "stdout",
     "output_type": "stream",
     "text": [
      "Chuỗi sau khi thay thế: 1; 2; 3; 4; 5\n"
     ]
    }
   ],
   "source": [
    "import re\n",
    "\n",
    "def replace_commas_with_semicolons(text):\n",
    "    # Sử dụng re.sub() để thay thế tất cả các dấu phẩy thành dấu chấm phẩy\n",
    "    result = re.sub(r',', ';', text)\n",
    "    return result\n",
    "\n",
    "text = \"1, 2, 3, 4, 5\"\n",
    "\n",
    "result_text = replace_commas_with_semicolons(text)\n",
    "print(\"Chuỗi sau khi thay thế:\", result_text)\n"
   ]
  }
 ],
 "metadata": {
  "kernelspec": {
   "display_name": "Python 3",
   "language": "python",
   "name": "python3"
  },
  "language_info": {
   "codemirror_mode": {
    "name": "ipython",
    "version": 3
   },
   "file_extension": ".py",
   "mimetype": "text/x-python",
   "name": "python",
   "nbconvert_exporter": "python",
   "pygments_lexer": "ipython3",
   "version": "3.11.6"
  }
 },
 "nbformat": 4,
 "nbformat_minor": 2
}
