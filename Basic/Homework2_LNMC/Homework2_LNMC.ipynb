{
 "cells": [
  {
   "cell_type": "markdown",
   "metadata": {},
   "source": [
    "Bài 1: Tạo một RESTful API để lấy thông tin từ 1 file.txt, với route là /get_file.\n",
    "Nội dung file tự chọn."
   ]
  },
  {
   "cell_type": "code",
   "execution_count": 2,
   "metadata": {},
   "outputs": [
    {
     "name": "stdout",
     "output_type": "stream",
     "text": [
      " * Serving Flask app '__main__'\n",
      " * Debug mode: off\n"
     ]
    },
    {
     "name": "stderr",
     "output_type": "stream",
     "text": [
      "WARNING: This is a development server. Do not use it in a production deployment. Use a production WSGI server instead.\n",
      " * Running on http://127.0.0.1:5000\n",
      "Press CTRL+C to quit\n"
     ]
    },
    {
     "name": "stderr",
     "output_type": "stream",
     "text": [
      "127.0.0.1 - - [09/Jun/2024 22:41:51] \"GET / HTTP/1.1\" 404 -\n"
     ]
    }
   ],
   "source": [
    "from flask import Flask, jsonify\n",
    "import pandas as pd\n",
    "\n",
    "app = Flask(__name__)\n",
    "@app.route(\"/get_file\")\n",
    "def get_file():\n",
    "    with open('Hello.txt', 'r', encoding = 'utf-8') as file:\n",
    "        content = file.readlines()\n",
    "\n",
    "    result = {\"lines\": content}\n",
    "    return jsonify(result)\n",
    "\n",
    "if __name__ == \"__main__\":\n",
    "    app.run()"
   ]
  },
  {
   "cell_type": "markdown",
   "metadata": {},
   "source": [
    "Bài 2: Tạo một RESTful API để lấy thông tin khách hàng từ file Telco-Customer-\n",
    "Churn.csv, để đưa lên local web, trả về kiểu json. Yêu cầu filter dựa vào\n",
    "MonthlyCharges với 20 giá trị thấp nhất (sắp xếp các giá trị này từ cao đến\n",
    "thấp)."
   ]
  },
  {
   "cell_type": "code",
   "execution_count": 8,
   "metadata": {},
   "outputs": [
    {
     "name": "stdout",
     "output_type": "stream",
     "text": [
      " * Serving Flask app '__main__'\n",
      " * Debug mode: off\n"
     ]
    },
    {
     "name": "stderr",
     "output_type": "stream",
     "text": [
      "WARNING: This is a development server. Do not use it in a production deployment. Use a production WSGI server instead.\n",
      " * Running on http://127.0.0.1:5000\n",
      "Press CTRL+C to quit\n",
      "127.0.0.1 - - [09/Jun/2024 22:49:45] \"GET /api/customers HTTP/1.1\" 200 -\n"
     ]
    }
   ],
   "source": [
    "from flask import Flask, jsonify\n",
    "import pandas as pd\n",
    "\n",
    "app = Flask(__name__)\n",
    "\n",
    "df = pd.read_csv('Telco-Customer-Churn.csv')\n",
    "\n",
    "@app.route('/api/customers', methods=['GET'])\n",
    "def get_customers():\n",
    "    sorted_df = df.nsmallest(20, 'MonthlyCharges').sort_values(by='MonthlyCharges', ascending=False)\n",
    "    \n",
    "    result = sorted_df.to_dict(orient='records')\n",
    "    \n",
    "    return jsonify(result)\n",
    "\n",
    "if __name__ == '__main__':\n",
    "    app.run()\n"
   ]
  },
  {
   "cell_type": "markdown",
   "metadata": {},
   "source": [
    "Tạo một RESTful API dùng Flask. API này sẽ quản lý 1 thư viện gồm\n",
    "danh sách các quyển sách."
   ]
  },
  {
   "cell_type": "code",
   "execution_count": null,
   "metadata": {},
   "outputs": [],
   "source": [
    "from flask import Flask, request, jsonify, abort\n",
    "\n",
    "app = Flask(__name__)\n",
    "\n",
    "books = []\n",
    "\n",
    "@app.route(\"/books\", methods=[\"GET\"])\n",
    "def get_books():\n",
    "    return jsonify(books)\n",
    "\n",
    "@app.route(\"/books\", methods=[\"POST\"])\n",
    "def add_book():\n",
    "    if not request.json or not 'id' in request.json or not 'title' in request.json or not 'author' in request.json:\n",
    "        abort(400)\n",
    "    book = {\n",
    "        'id': request.json['id'],\n",
    "        'title': request.json['title'],\n",
    "        'author': request.json['author']\n",
    "    }\n",
    "    books.append(book)\n",
    "    return jsonify(book), 201\n",
    "\n",
    "@app.route(\"/books/<int:book_id>\", methods=[\"PUT\"])\n",
    "def update_book(book_id):\n",
    "    book = next((b for b in books if b['id'] == book_id), None)\n",
    "    if not book:\n",
    "        abort(404)\n",
    "    if not request.json:\n",
    "        abort(400)\n",
    "    if 'title' in request.json and type(request.json['title']) != str:\n",
    "        abort(400)\n",
    "    if 'author' in request.json and type(request.json['author']) != str:\n",
    "        abort(400)\n",
    "    book['title'] = request.json.get('title', book['title'])\n",
    "    book['author'] = request.json.get('author', book['author'])\n",
    "    return jsonify(book)\n",
    "\n",
    "@app.route(\"/books/<int:book_id>\", methods=[\"DELETE\"])\n",
    "def delete_book(book_id):\n",
    "    global books\n",
    "    books = [b for b in books if b['id'] != book_id]\n",
    "    return jsonify({'result': True})\n",
    "\n",
    "if __name__ == \"__main__\":\n",
    "    app.run()\n"
   ]
  }
 ],
 "metadata": {
  "kernelspec": {
   "display_name": "Python 3",
   "language": "python",
   "name": "python3"
  },
  "language_info": {
   "codemirror_mode": {
    "name": "ipython",
    "version": 3
   },
   "file_extension": ".py",
   "mimetype": "text/x-python",
   "name": "python",
   "nbconvert_exporter": "python",
   "pygments_lexer": "ipython3",
   "version": "3.11.6"
  }
 },
 "nbformat": 4,
 "nbformat_minor": 2
}
