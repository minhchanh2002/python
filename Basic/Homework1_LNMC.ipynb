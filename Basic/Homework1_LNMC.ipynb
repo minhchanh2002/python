{
 "cells": [
  {
   "cell_type": "markdown",
   "metadata": {},
   "source": [
    "Bài 1: Tìm key có giá trị lớn nhất trong 1 dict"
   ]
  },
  {
   "cell_type": "code",
   "execution_count": 1,
   "metadata": {},
   "outputs": [
    {
     "name": "stdout",
     "output_type": "stream",
     "text": [
      "Key có giá trị lớn nhất là: b\n"
     ]
    }
   ],
   "source": [
    "def find_max_value_key(d):\n",
    "    # Kiểm tra dictionary có rỗng hay không\n",
    "    if not d:\n",
    "        return None\n",
    "    \n",
    "    max_key = max(d, key=d.get)\n",
    "    \n",
    "    return max_key\n",
    "\n",
    "sample_dict = {'a': 10, 'b': 20, 'c': 15}\n",
    "result = find_max_value_key(sample_dict)\n",
    "print(f\"Key có giá trị lớn nhất là: {result}\")"
   ]
  },
  {
   "cell_type": "markdown",
   "metadata": {},
   "source": [
    "Bài 2: Đếm số phần tử xuất hiện trong list"
   ]
  },
  {
   "cell_type": "code",
   "execution_count": 2,
   "metadata": {},
   "outputs": [
    {
     "name": "stdout",
     "output_type": "stream",
     "text": [
      "Phần tử 2 xuất hiện 3 lần trong danh sách.\n"
     ]
    }
   ],
   "source": [
    "def count_occurrences(lst, element):\n",
    "\n",
    "    count = lst.count(element)\n",
    "    \n",
    "    return count\n",
    "\n",
    "sample_list = [1, 2, 3, 2, 4, 2, 5]\n",
    "element_to_count = 2\n",
    "result = count_occurrences(sample_list, element_to_count)\n",
    "print(f\"Phần tử {element_to_count} xuất hiện {result} lần trong danh sách.\")"
   ]
  },
  {
   "cell_type": "markdown",
   "metadata": {},
   "source": [
    "Bài 3: Kiểm tra định dạng mật khẩu mạnh"
   ]
  },
  {
   "cell_type": "code",
   "execution_count": 1,
   "metadata": {},
   "outputs": [
    {
     "name": "stdout",
     "output_type": "stream",
     "text": [
      "Đây là mật khẩu mạnh: P@ssw0rd\n",
      "Đây không là mật khẩu mạnh: password\n",
      "Đây không là mật khẩu mạnh: 12345678\n",
      "Đây không là mật khẩu mạnh: P@ssw0\n",
      "Đây là mật khẩu mạnh: StrongPass1!\n",
      "Đây không là mật khẩu mạnh: WeakPass\n"
     ]
    }
   ],
   "source": [
    "import re\n",
    "\n",
    "def check_password(password):\n",
    "    if len(password) < 8:\n",
    "        return f\"Đây không là mật khẩu mạnh: {password}\"\n",
    "    \n",
    "    if (re.search(r'[a-z]', password) and\n",
    "        re.search(r'[A-Z]', password) and\n",
    "        re.search(r'\\d', password) and\n",
    "        re.search(r'[!@#$%^&*()_+{}:;\\'<>,.?~\\\\/\\[\\]]', password)):\n",
    "        return f\"Đây là mật khẩu mạnh: {password}\"\n",
    "    else:\n",
    "        return f\"Đây không là mật khẩu mạnh: {password}\"\n",
    "\n",
    "passwords = [\"P@ssw0rd\", \"password\", \"12345678\", \"P@ssw0\", \"StrongPass1!\", \"WeakPass\"]\n",
    "\n",
    "for pw in passwords:\n",
    "    print(check_password(pw))"
   ]
  },
  {
   "cell_type": "markdown",
   "metadata": {},
   "source": [
    "Bài 4: Tách tên và họ"
   ]
  },
  {
   "cell_type": "code",
   "execution_count": 8,
   "metadata": {},
   "outputs": [
    {
     "name": "stdout",
     "output_type": "stream",
     "text": [
      "Họ: Nguyễn, Tên: Tú\n",
      "Họ: Lương, Tên: Chánh\n",
      "Họ: Lê, Tên: Giang\n",
      "Họ: Ngộ, Tên: Không\n",
      "Họ: Trần, Tên: Thương\n"
     ]
    }
   ],
   "source": [
    "import re\n",
    "\n",
    "def tach_ho_va_ten(danh_sach_nguoi_dung):\n",
    "    ket_qua = []\n",
    "    # Biểu thức chính quy để tách họ và tên, bỏ qua tên đệm\n",
    "    pattern = re.compile(r'^(?P<ho>\\S+)\\s.+\\s(?P<ten>\\S+)$')\n",
    "    \n",
    "    for nguoi_dung in danh_sach_nguoi_dung:\n",
    "        match = pattern.match(nguoi_dung)\n",
    "        if match:\n",
    "            ho = match.group('ho')\n",
    "            ten = match.group('ten')\n",
    "            ket_qua.append({'ho': ho, 'ten': ten})\n",
    "        else:\n",
    "            # Trường hợp tên không có đệm (chỉ có họ và tên)\n",
    "            pattern_simple = re.compile(r'^(?P<ho>\\S+)\\s(?P<ten>\\S+)$')\n",
    "            match_simple = pattern_simple.match(nguoi_dung)\n",
    "            if match_simple:\n",
    "                ho = match_simple.group('ho')\n",
    "                ten = match_simple.group('ten')\n",
    "                ket_qua.append({'ho': ho, 'ten': ten})\n",
    "            else:\n",
    "                ket_qua.append({'ho': None, 'ten': None})  # Trường hợp không tách được\n",
    "\n",
    "    return ket_qua\n",
    "\n",
    "# Ví dụ danh sách người dùng\n",
    "danh_sach_nguoi_dung = [\"Nguyễn Tú\", \"Lương Nguyễn Minh Chánh\", \"Lê Châu Giang\", \"Ngộ Không\", \"Trần Thị Hoài Thương\"]\n",
    "\n",
    "ket_qua = tach_ho_va_ten(danh_sach_nguoi_dung)\n",
    "\n",
    "for nguoi in ket_qua:\n",
    "    print(f\"Họ: {nguoi['ho']}, Tên: {nguoi['ten']}\")\n"
   ]
  }
 ],
 "metadata": {
  "kernelspec": {
   "display_name": "Python 3",
   "language": "python",
   "name": "python3"
  },
  "language_info": {
   "codemirror_mode": {
    "name": "ipython",
    "version": 3
   },
   "file_extension": ".py",
   "mimetype": "text/x-python",
   "name": "python",
   "nbconvert_exporter": "python",
   "pygments_lexer": "ipython3",
   "version": "3.11.6"
  }
 },
 "nbformat": 4,
 "nbformat_minor": 2
}
